{
 "cells": [
  {
   "cell_type": "markdown",
   "metadata": {},
   "source": [
    "**Exploring the Dataset**"
   ]
  },
  {
   "cell_type": "code",
   "execution_count": 1,
   "metadata": {},
   "outputs": [
    {
     "name": "stderr",
     "output_type": "stream",
     "text": [
      "Using TensorFlow backend.\n"
     ]
    }
   ],
   "source": [
    "import numpy as np\n",
    "import pandas as pd\n",
    "import matplotlib.pyplot as plt\n",
    "import tensorflow as tf\n",
    "from PIL import Image\n",
    "import os\n",
    "from sklearn.model_selection import train_test_split\n",
    "from keras.utils import to_categorical\n",
    "from keras.models import Sequential\n",
    "from keras.layers import Conv2D,MaxPool2D,Dense,Flatten,Dropout"
   ]
  },
  {
   "cell_type": "code",
   "execution_count": 3,
   "metadata": {},
   "outputs": [],
   "source": [
    "data =[]\n",
    "labels = []\n",
    "classes = 43\n",
    "cur_path = os.getcwd()\n",
    "for i in range(classes):\n",
    "    path = os.path.join(cur_path,'traffic_lights_cnn_data','train',str(i))\n",
    "    images = os.listdir(path)\n",
    "    for a in images:\n",
    "        try:\n",
    "            image = Image.open(path + '\\\\' + a)\n",
    "            image = image.resize((30,30))\n",
    "            image = np.array(image)\n",
    "            data.append(image)\n",
    "            labels.append(i)\n",
    "        except:\n",
    "            print(\"Error loading Image\")\n",
    "data = np.array(data)\n",
    "labels = np.array(labels)"
   ]
  },
  {
   "cell_type": "markdown",
   "metadata": {},
   "source": [
    "*splitting data to train and test*"
   ]
  },
  {
   "cell_type": "code",
   "execution_count": 7,
   "metadata": {},
   "outputs": [
    {
     "name": "stdout",
     "output_type": "stream",
     "text": [
      "(39209, 30, 30, 3) (39209,)\n",
      "(31367, 30, 30, 3) (7842, 30, 30, 3) (31367,) (7842,)\n"
     ]
    }
   ],
   "source": [
    "print(data.shape, labels.shape)\n",
    "\n",
    "X_train,X_test,Y_train,Y_test = train_test_split(data,labels,test_size = 0.2,random_state = 43)\n",
    "\n",
    "print(X_train.shape,X_test.shape,Y_train.shape,Y_test.shape)\n",
    "\n",
    "Y_train = to_categorical(Y_train,43)\n",
    "Y_test = to_categorical(Y_test,43)"
   ]
  },
  {
   "cell_type": "markdown",
   "metadata": {},
   "source": [
    "**Building our Model**"
   ]
  },
  {
   "cell_type": "code",
   "execution_count": 10,
   "metadata": {},
   "outputs": [],
   "source": [
    "model = Sequential()\n",
    "model.add(Conv2D(filters=32,kernel_size=(5,5),activation = 'relu',input_shape=X_train.shape[1:]))\n",
    "model.add(Conv2D(filters=32,kernel_size=(5,5),activation = 'relu'))\n",
    "model.add(MaxPool2D(pool_size = (2,2)))\n",
    "model.add(Dropout(rate=0.25))\n",
    "model.add(Conv2D(filters=32,kernel_size=(3,3),activation = 'relu'))\n",
    "model.add(Conv2D(filters=32,kernel_size=(3,3),activation = 'relu'))\n",
    "model.add(MaxPool2D(pool_size = (2,2)))\n",
    "model.add(Dropout(rate=0.25))\n",
    "model.add(Flatten())\n",
    "model.add(Dense(256,activation = 'relu'))\n",
    "model.add(Dropout(rate=0.25))\n",
    "model.add(Dense(43,activation = 'softmax'))\n",
    "\n"
   ]
  },
  {
   "cell_type": "code",
   "execution_count": 13,
   "metadata": {},
   "outputs": [],
   "source": [
    "model.compile(loss = 'categorical_crossentropy', optimizer = 'adam',metrics = ['accuracy'])"
   ]
  },
  {
   "cell_type": "markdown",
   "metadata": {},
   "source": [
    "**Fitting the Model on our data**"
   ]
  },
  {
   "cell_type": "code",
   "execution_count": 14,
   "metadata": {},
   "outputs": [
    {
     "name": "stdout",
     "output_type": "stream",
     "text": [
      "WARNING:tensorflow:From C:\\Users\\lenovo\\anaconda\\lib\\site-packages\\tensorflow\\python\\ops\\math_ops.py:3066: to_int32 (from tensorflow.python.ops.math_ops) is deprecated and will be removed in a future version.\n",
      "Instructions for updating:\n",
      "Use tf.cast instead.\n",
      "Train on 31367 samples, validate on 7842 samples\n",
      "Epoch 1/15\n",
      "31367/31367 [==============================] - 164s 5ms/step - loss: 2.3824 - acc: 0.4150 - val_loss: 0.8620 - val_acc: 0.7740\n",
      "Epoch 2/15\n",
      "31367/31367 [==============================] - 161s 5ms/step - loss: 0.9609 - acc: 0.7185 - val_loss: 0.4407 - val_acc: 0.8792\n",
      "Epoch 3/15\n",
      "31367/31367 [==============================] - 160s 5ms/step - loss: 0.6220 - acc: 0.8106 - val_loss: 0.3465 - val_acc: 0.9053\n",
      "Epoch 4/15\n",
      "31367/31367 [==============================] - 159s 5ms/step - loss: 0.4377 - acc: 0.8671 - val_loss: 0.2160 - val_acc: 0.9397\n",
      "Epoch 5/15\n",
      "31367/31367 [==============================] - 155s 5ms/step - loss: 0.3477 - acc: 0.8947 - val_loss: 0.1750 - val_acc: 0.9477\n",
      "Epoch 6/15\n",
      "31367/31367 [==============================] - 159s 5ms/step - loss: 0.2943 - acc: 0.9123 - val_loss: 0.1401 - val_acc: 0.9601\n",
      "Epoch 7/15\n",
      "31367/31367 [==============================] - 157s 5ms/step - loss: 0.2427 - acc: 0.9271 - val_loss: 0.1310 - val_acc: 0.9625\n",
      "Epoch 8/15\n",
      "31367/31367 [==============================] - 154s 5ms/step - loss: 0.2193 - acc: 0.9350 - val_loss: 0.0995 - val_acc: 0.9726\n",
      "Epoch 9/15\n",
      "31367/31367 [==============================] - 154s 5ms/step - loss: 0.2071 - acc: 0.9393 - val_loss: 0.1038 - val_acc: 0.9688\n",
      "Epoch 10/15\n",
      "31367/31367 [==============================] - 155s 5ms/step - loss: 0.1914 - acc: 0.9428 - val_loss: 0.0845 - val_acc: 0.9762\n",
      "Epoch 11/15\n",
      "31367/31367 [==============================] - 154s 5ms/step - loss: 0.1838 - acc: 0.9459 - val_loss: 0.0849 - val_acc: 0.9732\n",
      "Epoch 12/15\n",
      "31367/31367 [==============================] - 155s 5ms/step - loss: 0.1860 - acc: 0.9464 - val_loss: 0.0908 - val_acc: 0.9732\n",
      "Epoch 13/15\n",
      "31367/31367 [==============================] - 154s 5ms/step - loss: 0.1679 - acc: 0.9507 - val_loss: 0.0714 - val_acc: 0.9795\n",
      "Epoch 14/15\n",
      "31367/31367 [==============================] - 153s 5ms/step - loss: 0.1604 - acc: 0.9548 - val_loss: 0.0869 - val_acc: 0.9750\n",
      "Epoch 15/15\n",
      "31367/31367 [==============================] - 154s 5ms/step - loss: 0.1518 - acc: 0.9564 - val_loss: 0.0731 - val_acc: 0.9793\n"
     ]
    }
   ],
   "source": [
    "epochs = 15\n",
    "history = model.fit(X_train,Y_train ,batch_size = 64,epochs= epochs,validation_data = (X_test,Y_test))\n"
   ]
  },
  {
   "cell_type": "markdown",
   "metadata": {},
   "source": [
    "**Visualising the accuracy and loss**"
   ]
  },
  {
   "cell_type": "code",
   "execution_count": 26,
   "metadata": {},
   "outputs": [
    {
     "data": {
      "text/plain": [
       "<matplotlib.legend.Legend at 0x27782e90828>"
      ]
     },
     "execution_count": 26,
     "metadata": {},
     "output_type": "execute_result"
    },
    {
     "data": {
      "image/png": "[encoded data removed]",
      "text/plain": [
       "<Figure size 432x288 with 1 Axes>"
      ]
     },
     "metadata": {
      "needs_background": "light"
     },
     "output_type": "display_data"
    },
    {
     "data": {
      "image/png": "[encoded data removed]",
      "text/plain": [
       "<Figure size 432x288 with 1 Axes>"
      ]
     },
     "metadata": {
      "needs_background": "light"
     },
     "output_type": "display_data"
    }
   ],
   "source": [
    "plt.figure(0)\n",
    "plt.plot(history.history['acc'], label='training accuracy')\n",
    "plt.plot(history.history['val_acc'],label = 'val accuracy')\n",
    "plt.title('Accuracy')\n",
    "plt.xlabel('epochs')\n",
    "plt.ylabel('accuracy')\n",
    "plt.legend()\n",
    "\n",
    "plt.figure(1)\n",
    "plt.plot(history.history['loss'],label = 'loss')\n",
    "plt.plot(history.history['val_loss'],label = 'val loss')\n",
    "plt.title('Loss')\n",
    "plt.xlabel('epochs')\n",
    "plt.ylabel('loss')\n",
    "plt.legend()\n"
   ]
  },
  {
   "cell_type": "markdown",
   "metadata": {},
   "source": [
    "**Testing it on test data**"
   ]
  },
  {
   "cell_type": "code",
   "execution_count": 30,
   "metadata": {},
   "outputs": [
    {
     "name": "stdout",
     "output_type": "stream",
     "text": [
      "0.9553444180522566\n"
     ]
    }
   ],
   "source": [
    "from sklearn.metrics import accuracy_score\n",
    "y_test = pd.read_csv('traffic_lights_cnn_data/Test.csv')\n",
    "labels = y_test[\"ClassId\"].values\n",
    "imgs = y_test[\"Path\"].values\n",
    "\n",
    "data=[]\n",
    "for img in imgs:\n",
    "    img =  'traffic_lights_cnn_data/' + img\n",
    "    image = Image.open(img)\n",
    "    image = image.resize((30,30))\n",
    "    data.append(np.array(image))\n",
    "X_test=np.array(data)\n",
    "pred = model.predict_classes(X_test)\n",
    "#Accuracy with the test data\n",
    "print(accuracy_score(labels, pred))"
   ]
  },
  {
   "cell_type": "markdown",
   "metadata": {},
   "source": [
    "**Saving the model**"
   ]
  },
  {
   "cell_type": "code",
   "execution_count": 31,
   "metadata": {},
   "outputs": [],
   "source": [
    "model.save('traffic_classifier.h5')"
   ]
  },
  {
   "cell_type": "code",
   "execution_count": null,
   "metadata": {},
   "outputs": [],
   "source": []
  }
 ],
 "metadata": {
  "kernelspec": {
   "display_name": "Python 3",
   "language": "python",
   "name": "python3"
  },
  "language_info": {
   "codemirror_mode": {
    "name": "ipython",
    "version": 3
   },
   "file_extension": ".py",
   "mimetype": "text/x-python",
   "name": "python",
   "nbconvert_exporter": "python",
   "pygments_lexer": "ipython3",
   "version": "3.7.1"
  }
 },
 "nbformat": 4,
 "nbformat_minor": 2
}
